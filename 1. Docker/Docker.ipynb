{
 "metadata": {
  "language_info": {
   "codemirror_mode": {
    "name": "ipython",
    "version": 3
   },
   "file_extension": ".py",
   "mimetype": "text/x-python",
   "name": "python",
   "nbconvert_exporter": "python",
   "pygments_lexer": "ipython3",
   "version": "3.8.6-final"
  },
  "orig_nbformat": 2,
  "kernelspec": {
   "name": "Python 3.8.6 64-bit ('main': conda)",
   "display_name": "Python 3.8.6 64-bit ('main': conda)",
   "metadata": {
    "interpreter": {
     "hash": "06c1e258a470a687113bfba03f207c092b27379067ada2d83b8b31269ab641fe"
    }
   }
  }
 },
 "nbformat": 4,
 "nbformat_minor": 2,
 "cells": [
  {
   "source": [
    "# Docker\n",
    "\n",
    "## What is Docker?\n",
    "Docker is a software that allows you to make **containers** from **images**.\n",
    "Images define virtual operating systems and all other software required to run a software application on top of whatever OS is actually installed on the machine.\n",
    "When we looked at EC2 and had to choose what AMI (application machine __image__), we were specifying the image for the software that ran on the EC2 instance.\n",
    "Containers are instances of images. Docker [describes them](https://www.docker.com/resources/what-container) as standardised units of software.\n",
    "\n",
    "The point of this is that you can define the environment that your software expects to run on as an image, and then run containers of that image on any computer, regardless of what operating system it has installed.\n",
    "If you built your software on a Windows laptop, but your server needs to run Ubuntu Linux, then you can just run a Docker image of a Windows machine on the server, and things will work fine.\n",
    "\n",
    "This makes it easy to spin up an instance, or lots of instances, on any available machines without worrying about if they will support your application.\n",
    "All you need is Docker.\n",
    "\n",
    "## Docker Hub\n",
    "\n",
    "Lot's of images have been built by the docker community. You can browse them on [Docker Hub](https://hub.docker.com/)\n",
    "\n",
    "## Starting the docker daemon\n",
    "\n",
    "Firstly, a daemon is some software which is always running in the background.\n",
    "\n",
    "On linux you should be able to start docker by simply running:\n",
    "\n",
    "`sudo systemctl docker start`\n",
    "\n",
    "or\n",
    "\n",
    "`sudo service docker start`\n",
    "\n",
    "On MacOS, you'll need to download the docker desktop app from [here](https://docs.docker.com/docker-for-mac/install/)."
   ],
   "cell_type": "markdown",
   "metadata": {}
  },
  {
   "source": [
    "## Creating a Docker image\n",
    "\n",
    "### The Dockerfile\n",
    "\n",
    "The Dockerfile is a file that contains instructions for how to start up a container.\n",
    "Line by line, it contains instructions in the format `INSTRUCTION arguments`\n",
    "\n",
    "A valid Dockerfile must start with a `FROM` instruction, whose argument is the parent image from which you are building.\n",
    "\n",
    "Please check out the Dockerfile documentation [here](https://docs.docker.com/engine/reference/builder/)\n",
    "\n",
    "Here's an example of what a Dockerfile might look like.\n"
   ],
   "cell_type": "markdown",
   "metadata": {}
  },
  {
   "cell_type": "code",
   "execution_count": 1,
   "metadata": {},
   "outputs": [
    {
     "output_type": "error",
     "ename": "SyntaxError",
     "evalue": "invalid syntax (<ipython-input-1-55486f82f2da>, line 2)",
     "traceback": [
      "\u001b[0;36m  File \u001b[0;32m\"<ipython-input-1-55486f82f2da>\"\u001b[0;36m, line \u001b[0;32m2\u001b[0m\n\u001b[0;31m    FROM node:current-slim\u001b[0m\n\u001b[0m         ^\u001b[0m\n\u001b[0;31mSyntaxError\u001b[0m\u001b[0;31m:\u001b[0m invalid syntax\n"
     ]
    }
   ],
   "source": [
    "# Use the official image as a parent image.\n",
    "FROM node:current-slim\n",
    "\n",
    "# Set the working directory.\n",
    "WORKDIR /usr/src/app\n",
    "\n",
    "# Copy the file from your host to your current location.\n",
    "COPY package.json .\n",
    "\n",
    "# Run the command inside your image filesystem.\n",
    "RUN conda install tensorboard\n",
    "\n",
    "# Add metadata to the image to describe which port the container is listening on at runtime.\n",
    "EXPOSE 8080\n",
    "\n",
    "# Run the specified command within the container.\n",
    "CMD [ \"npm\", \"start\" ]\n",
    "\n",
    "# Copy the rest of your app's source code from your host to your image filesystem.\n",
    "COPY . ."
   ]
  },
  {
   "source": [
    "Once a container is running, you can go into it by running.\n",
    "\n",
    "`docker exec -it cont /bin/bash`"
   ],
   "cell_type": "markdown",
   "metadata": {}
  },
  {
   "source": [
    "### Port mapping\n",
    "\n",
    "By default, what's running inside your container is not exposed to the outside world, or even to the computer which is running the container.\n",
    "To get into the container, or talk to it, we need to __expose__ some port.\n",
    "We can specify this using the `-p` flag (for port), and map our any of our machine's ports to ports of the container.\n",
    "\n",
    "`docker run -p 3000:3000 --name my_container my_img`\n",
    "\n",
    "This maps our computer's port 3000 to the container's port 3000."
   ],
   "cell_type": "markdown",
   "metadata": {}
  },
  {
   "source": [
    "### Running Docker on a cloud server\n",
    "\n",
    "Spin up an EC2 instance running an Ubuntu Linux AMI and SSH into it as we've done previously.\n",
    "\n",
    "Run `sudo snap install docker` to install docker."
   ],
   "cell_type": "markdown",
   "metadata": {}
  },
  {
   "cell_type": "code",
   "execution_count": null,
   "metadata": {},
   "outputs": [],
   "source": []
  }
 ]
}